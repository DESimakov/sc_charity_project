{
 "cells": [
  {
   "cell_type": "code",
   "execution_count": 1,
   "metadata": {},
   "outputs": [],
   "source": [
    "from charity import CharityShop"
   ]
  },
  {
   "cell_type": "code",
   "execution_count": 2,
   "metadata": {},
   "outputs": [],
   "source": [
    "cs = CharityShop()"
   ]
  },
  {
   "cell_type": "code",
   "execution_count": 3,
   "metadata": {},
   "outputs": [
    {
     "name": "stdout",
     "output_type": "stream",
     "text": [
      "Всего совершенно пожертвований: 1007000000000000000 wei.\n"
     ]
    }
   ],
   "source": [
    "cs.get_balance()"
   ]
  },
  {
   "cell_type": "code",
   "execution_count": 4,
   "metadata": {},
   "outputs": [
    {
     "name": "stdout",
     "output_type": "stream",
     "text": [
      "Число товаров: 4.\n",
      "Число доступных товаров: 3.\n"
     ]
    }
   ],
   "source": [
    "cs.get_information()"
   ]
  },
  {
   "cell_type": "code",
   "execution_count": 5,
   "metadata": {},
   "outputs": [
    {
     "name": "stdout",
     "output_type": "stream",
     "text": [
      "Название товара: good 1\n",
      "Описание товара: nice thing\n",
      "Цена товара: 10000\n",
      "Id товара: id1\n",
      "\t\n",
      "Название товара: good 3\n",
      "Описание товара: nice thing 3\n",
      "Цена товара: 1000000\n",
      "Id товара: id3\n",
      "\t\n",
      "Название товара: something cool\n",
      "Описание товара: made after creation\n",
      "Цена товара: 777\n",
      "Id товара: id4\n",
      "\t\n"
     ]
    }
   ],
   "source": [
    "cs.print_results()"
   ]
  },
  {
   "cell_type": "code",
   "execution_count": 6,
   "metadata": {},
   "outputs": [
    {
     "name": "stdout",
     "output_type": "stream",
     "text": [
      "Название товара: good 1\n",
      "Описание товара: nice thing\n",
      "Цена товара: 10000\n",
      "Id товара: id1\n",
      "\t\n",
      "Название товара: something cool\n",
      "Описание товара: made after creation\n",
      "Цена товара: 777\n",
      "Id товара: id4\n",
      "\t\n"
     ]
    }
   ],
   "source": [
    "cs.print_results(max_price=19999)"
   ]
  },
  {
   "cell_type": "code",
   "execution_count": null,
   "metadata": {},
   "outputs": [],
   "source": []
  }
 ],
 "metadata": {
  "kernelspec": {
   "display_name": "Python 3",
   "language": "python",
   "name": "python3"
  },
  "language_info": {
   "codemirror_mode": {
    "name": "ipython",
    "version": 3
   },
   "file_extension": ".py",
   "mimetype": "text/x-python",
   "name": "python",
   "nbconvert_exporter": "python",
   "pygments_lexer": "ipython3",
   "version": "3.6.3"
  }
 },
 "nbformat": 4,
 "nbformat_minor": 2
}
